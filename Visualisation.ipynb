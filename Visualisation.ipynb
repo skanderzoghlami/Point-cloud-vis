{
 "cells": [
  {
   "cell_type": "code",
   "execution_count": 7,
   "id": "e669b592",
   "metadata": {},
   "outputs": [],
   "source": [
    "import open3d as o3d\n",
    "import os"
   ]
  },
  {
   "cell_type": "code",
   "execution_count": 2,
   "id": "2b7caacc",
   "metadata": {},
   "outputs": [
    {
     "name": "stdout",
     "output_type": "stream",
     "text": [
      "[Open3D WARNING] Read PLY failed: unable to open file: LongDress/colored.ply\n",
      "PointCloud with 857966 points.\n"
     ]
    }
   ],
   "source": [
    "pcd = o3d.io.read_point_cloud(\"LongDress/original.ply\")\n",
    "pcd2 = o3d.io.read_point_cloud(\"LongDress/colored.ply\")\n",
    "print(pcd)\n",
    "o3d.visualization.draw_geometries([pcd],point_show_normal=True)"
   ]
  },
  {
   "cell_type": "code",
   "execution_count": 3,
   "id": "0fa54b8b",
   "metadata": {},
   "outputs": [
    {
     "name": "stdout",
     "output_type": "stream",
     "text": [
      "PointCloud with 857600 points.\n"
     ]
    }
   ],
   "source": [
    "pcd = o3d.io.read_point_cloud(\"recolored_pcgcv1.ply\")\n",
    "print(pcd)\n",
    "o3d.visualization.draw_geometries([pcd],point_show_normal=True)"
   ]
  },
  {
   "cell_type": "code",
   "execution_count": 8,
   "id": "ba137873",
   "metadata": {},
   "outputs": [],
   "source": [
    "def showPC(pc_name=\"longdress\",bpp1=\"original\" , bpp2=\"06\",zm=0.8):\n",
    "    '''\n",
    "    This function takes as argument the name of the folder containing the point cloud\n",
    "    and allow to visualize and compare two point clouds\n",
    "    it also prints the number of points in each file\n",
    "    '''\n",
    "    if bpp1==\"original\" :\n",
    "        try :\n",
    "            pcd1 = o3d.io.read_point_cloud(pc_name+\"/original.ply\")\n",
    "        except:\n",
    "            print(\"file not found\") \n",
    "            return None\n",
    "    else :\n",
    "        try:\n",
    "            pcd1 = o3d.io.read_point_cloud(pc_name+\"/colored\"+bpp1+\".ply\")\n",
    "        except :\n",
    "            print(\"file not found\") \n",
    "            return None\n",
    "    try:\n",
    "        pcd2 = o3d.io.read_point_cloud(pc_name+\"/colored\"+bpp2+\".ply\")\n",
    "    except :\n",
    "        print(\"file not found\") \n",
    "        return None\n",
    "    vis = o3d.visualization.VisualizerWithEditing()\n",
    "    vis.create_window(window_name=bpp1, width=600, height=540, left=10, top=30)\n",
    "    vis.add_geometry(pcd1)\n",
    "    # vis.add_geometry(point_mesh_sphere)\n",
    "    o3d.visualization.ViewControl.set_zoom(vis.get_view_control(), zm)\n",
    "    \n",
    "    \n",
    "    vis_result = o3d.visualization.VisualizerWithEditing()\n",
    "    vis_result.create_window(window_name=bpp2, width=600, height=540, left=810, top=30)\n",
    "    vis_result.add_geometry(pcd2)\n",
    "    o3d.visualization.ViewControl.set_zoom(vis_result.get_view_control(), zm)\n",
    "    \n",
    "    print(bpp1,\" has a number of points of : \" , pcd1)\n",
    "    print(bpp2,\" has a number of points of : \" , pcd2)\n",
    "    while True:\n",
    "        vis.update_geometry(pcd1)\n",
    "        if not vis.poll_events():\n",
    "            break\n",
    "        vis.update_renderer()\n",
    "\n",
    "        vis_result.update_geometry(pcd2)\n",
    "        if not vis_result.poll_events():\n",
    "            break\n",
    "        vis_result.update_renderer()\n",
    "    vis.destroy_window()\n",
    "    vis_result.destroy_window()"
   ]
  },
  {
   "cell_type": "code",
   "execution_count": 9,
   "id": "997c84d1",
   "metadata": {},
   "outputs": [],
   "source": [
    "import numpy as np\n",
    "import matplotlib.pyplot as plt\n",
    "from scipy.interpolate import interp1d"
   ]
  },
  {
   "cell_type": "code",
   "execution_count": 24,
   "id": "1897ccce",
   "metadata": {
    "scrolled": true
   },
   "outputs": [
    {
     "name": "stdout",
     "output_type": "stream",
     "text": [
      "original  has a number of points of :  PointCloud with 857966 points.\n",
      "01  has a number of points of :  PointCloud with 857600 points.\n"
     ]
    }
   ],
   "source": [
    "showPC(\"longdress\",\"original\",\"01\",0.15)"
   ]
  },
  {
   "cell_type": "code",
   "execution_count": 10,
   "id": "be0ce703",
   "metadata": {},
   "outputs": [],
   "source": [
    "pcgcv1 = 857600\n",
    "original = 857966 \n",
    "pcc_geo_cnn = np.array([926826 , 885706 , 869969  , 868609  , 863049 ])\n",
    "bpps = np.array([0.2 , 0.3 , 0.4 , 0.6 , 0.9])\n",
    "cubic_interploation_model = interp1d(bpps, pcc_geo_cnn, kind = \"cubic\")\n",
    " \n",
    "# Plotting the Graph\n",
    "#X_=np.linspace(bpps.min(), bpps.max(), 500)\n",
    "#Y_=cubic_interploation_model(X_)"
   ]
  },
  {
   "cell_type": "code",
   "execution_count": 11,
   "id": "3daace8f",
   "metadata": {},
   "outputs": [
    {
     "data": {
      "image/png": "[encoded data removed]",
      "text/plain": [
       "<Figure size 432x288 with 1 Axes>"
      ]
     },
     "metadata": {
      "needs_background": "light"
     },
     "output_type": "display_data"
    }
   ],
   "source": [
    "plt.plot(bpps, pcc_geo_cnn,label=\"pcc_geo_cnn\")\n",
    "plt.axhline(y=857966, color='r', linestyle='-' ,label=\"original\" )\n",
    "plt.axhline(y=857600, color='g', linestyle='-' ,label=\"PCGC\")\n",
    "plt.title(\"Number of points given by each method\")\n",
    "plt.xlabel(\"bpp\")\n",
    "plt.ylabel(\"Number of points\")\n",
    "plt.legend(bbox_to_anchor=(1.04,0.5), loc=\"center left\", borderaxespad=0)\n",
    "plt.show()"
   ]
  },
  {
   "cell_type": "code",
   "execution_count": null,
   "id": "269471f9",
   "metadata": {},
   "outputs": [],
   "source": []
  },
  {
   "cell_type": "code",
   "execution_count": null,
   "id": "384359be",
   "metadata": {},
   "outputs": [],
   "source": []
  }
 ],
 "metadata": {
  "kernelspec": {
   "display_name": "Python 3 (ipykernel)",
   "language": "python",
   "name": "python3"
  },
  "language_info": {
   "codemirror_mode": {
    "name": "ipython",
    "version": 3
   },
   "file_extension": ".py",
   "mimetype": "text/x-python",
   "name": "python",
   "nbconvert_exporter": "python",
   "pygments_lexer": "ipython3",
   "version": "3.9.7"
  }
 },
 "nbformat": 4,
 "nbformat_minor": 5
}
